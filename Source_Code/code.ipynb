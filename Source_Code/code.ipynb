{
 "cells": [
  {
   "cell_type": "code",
   "execution_count": 4,
   "id": "dd50714a",
   "metadata": {},
   "outputs": [
    {
     "name": "stdout",
     "output_type": "stream",
     "text": [
      "   Unnamed: 0                              Name    Location  Year  \\\n",
      "0           1  Hyundai Creta 1.6 CRDi SX Option        Pune  2015   \n",
      "1           2                      Honda Jazz V     Chennai  2011   \n",
      "2           3                 Maruti Ertiga VDI     Chennai  2012   \n",
      "3           4   Audi A4 New 2.0 TDI Multitronic  Coimbatore  2013   \n",
      "4           6            Nissan Micra Diesel XV      Jaipur  2013   \n",
      "\n",
      "   Kilometers_Driven Fuel_Type Transmission Owner_Type     Mileage   Engine  \\\n",
      "0              41000    Diesel       Manual      First  19.67 kmpl  1582 CC   \n",
      "1              46000    Petrol       Manual      First    13 km/kg  1199 CC   \n",
      "2              87000    Diesel       Manual      First  20.77 kmpl  1248 CC   \n",
      "3              40670    Diesel    Automatic     Second   15.2 kmpl  1968 CC   \n",
      "4              86999    Diesel       Manual      First  23.08 kmpl  1461 CC   \n",
      "\n",
      "       Power  Seats  New_Price  Price  \n",
      "0  126.2 bhp    5.0  4.78 Lakh  12.50  \n",
      "1   88.7 bhp    5.0  8.61 Lakh   4.50  \n",
      "2  88.76 bhp    7.0  4.78 Lakh   6.00  \n",
      "3  140.8 bhp    5.0  4.78 Lakh  17.74  \n",
      "4   63.1 bhp    5.0  4.78 Lakh   3.50  \n"
     ]
    }
   ],
   "source": [
    "import pandas as pd\n",
    "\n",
    "\n",
    "raw_data = pd.read_csv(r'C:\\Users\\MANOJ\\OneDrive\\Desktop\\pds_Assignment 2\\train.csv')\n",
    "\n",
    "# Filling missing values in all columns with the mode\n",
    "for column in raw_data.columns:\n",
    "    raw_data[column].fillna(raw_data[column].mode()[0], inplace=True)\n",
    "\n",
    "\n",
    "raw_data.to_csv(r\"C:\\Users\\MANOJ\\OneDrive\\Desktop\\pds_Assignment 2\\Cleaned.csv\", index=False)\n",
    "raw_data = pd.read_csv(r\"C:\\Users\\MANOJ\\OneDrive\\Desktop\\pds_Assignment 2\\Cleaned.csv\")\n",
    "print(raw_data.head())"
   ]
  },
  {
   "cell_type": "code",
   "execution_count": 6,
   "id": "345eaee1",
   "metadata": {},
   "outputs": [
    {
     "name": "stdout",
     "output_type": "stream",
     "text": [
      "   Unnamed: 0                              Name    Location  Year  \\\n",
      "0           1  Hyundai Creta 1.6 CRDi SX Option        Pune  2015   \n",
      "1           2                      Honda Jazz V     Chennai  2011   \n",
      "2           3                 Maruti Ertiga VDI     Chennai  2012   \n",
      "3           4   Audi A4 New 2.0 TDI Multitronic  Coimbatore  2013   \n",
      "4           6            Nissan Micra Diesel XV      Jaipur  2013   \n",
      "\n",
      "   Kilometers_Driven Fuel_Type Transmission Owner_Type  Mileage  Engine  \\\n",
      "0              41000    Diesel       Manual      First    19.67  1582.0   \n",
      "1              46000    Petrol       Manual      First    13.00  1199.0   \n",
      "2              87000    Diesel       Manual      First    20.77  1248.0   \n",
      "3              40670    Diesel    Automatic     Second    15.20  1968.0   \n",
      "4              86999    Diesel       Manual      First    23.08  1461.0   \n",
      "\n",
      "    Power  Seats  New_Price  Price  \n",
      "0  126.20    5.0       4.78  12.50  \n",
      "1   88.70    5.0       8.61   4.50  \n",
      "2   88.76    7.0       4.78   6.00  \n",
      "3  140.80    5.0       4.78  17.74  \n",
      "4   63.10    5.0       4.78   3.50  \n"
     ]
    }
   ],
   "source": [
    "import pandas as pd\n",
    "\n",
    "def Conversion_function(data, columns):\n",
    "    for column in columns:\n",
    "        data[column] = data[column].str.extract('(\\d+\\.\\d+|\\d+)').astype(float, errors='ignore')\n",
    "\n",
    "data_2 = pd.read_csv(r\"C:\\Users\\MANOJ\\OneDrive\\Desktop\\pds_Assignment 2\\Cleaned.csv\")\n",
    "\n",
    "\n",
    "cleaning_columns = ['Mileage', 'Engine', 'Power', 'New_Price']\n",
    "\n",
    "# Call the function to remove units and keep only numerical values for the specified columns\n",
    "Conversion_function(data_2, cleaning_columns)\n",
    "\n",
    "\n",
    "data_2.to_csv(r\"C:\\Users\\MANOJ\\OneDrive\\Desktop\\pds_Assignment 2\\Converted.csv\", index=False)\n",
    "data_2 = pd.read_csv(r\"C:\\Users\\MANOJ\\OneDrive\\Desktop\\pds_Assignment 2\\Converted.csv\")\n",
    "print(data_2.head())"
   ]
  },
  {
   "cell_type": "code",
   "execution_count": 9,
   "id": "9d018940",
   "metadata": {},
   "outputs": [
    {
     "name": "stdout",
     "output_type": "stream",
     "text": [
      "   Unnamed: 0                              Name    Location  Year  \\\n",
      "0           1  Hyundai Creta 1.6 CRDi SX Option        Pune  2015   \n",
      "1           2                      Honda Jazz V     Chennai  2011   \n",
      "2           3                 Maruti Ertiga VDI     Chennai  2012   \n",
      "3           4   Audi A4 New 2.0 TDI Multitronic  Coimbatore  2013   \n",
      "4           6            Nissan Micra Diesel XV      Jaipur  2013   \n",
      "\n",
      "   Kilometers_Driven  Fuel_Type_Diesel  Fuel_Type_Petrol  Fuel_Type_Electric  \\\n",
      "0              41000                 1                 0                   0   \n",
      "1              46000                 0                 1                   0   \n",
      "2              87000                 1                 0                   0   \n",
      "3              40670                 1                 0                   0   \n",
      "4              86999                 1                 0                   0   \n",
      "\n",
      "   Transmission_Manual  Transmission_Automatic Owner_Type  Mileage  Engine  \\\n",
      "0                    1                       0      First    19.67  1582.0   \n",
      "1                    1                       0      First    13.00  1199.0   \n",
      "2                    1                       0      First    20.77  1248.0   \n",
      "3                    0                       1     Second    15.20  1968.0   \n",
      "4                    1                       0      First    23.08  1461.0   \n",
      "\n",
      "    Power  Seats  New_Price  Price  \n",
      "0  126.20    5.0       4.78  12.50  \n",
      "1   88.70    5.0       8.61   4.50  \n",
      "2   88.76    7.0       4.78   6.00  \n",
      "3  140.80    5.0       4.78  17.74  \n",
      "4   63.10    5.0       4.78   3.50  \n"
     ]
    }
   ],
   "source": [
    "import pandas as pd\n",
    "import category_encoders as ce\n",
    "\n",
    "\n",
    "raw_data = pd.read_csv(r\"C:\\Users\\MANOJ\\OneDrive\\Desktop\\pds_Assignment 2\\Converted.csv\")\n",
    "\n",
    "Oneencoder = ce.OneHotEncoder(cols=['Fuel_Type', 'Transmission'], use_cat_names=True)\n",
    "\n",
    "# Applying one-hot encoding to the specified columns\n",
    "encoded_data = Oneencoder.fit_transform(raw_data)\n",
    "\n",
    "encoded_data.to_csv(r\"C:\\Users\\MANOJ\\OneDrive\\Desktop\\pds_Assignment 2\\mutated.csv\", index=False)\n",
    "raw_data = pd.read_csv(r\"C:\\Users\\MANOJ\\OneDrive\\Desktop\\pds_Assignment 2\\mutated.csv\")\n",
    "print(raw_data.head())"
   ]
  },
  {
   "cell_type": "code",
   "execution_count": 10,
   "id": "7ba77f56",
   "metadata": {},
   "outputs": [
    {
     "name": "stdout",
     "output_type": "stream",
     "text": [
      "   Unnamed: 0                              Name    Location  Year  \\\n",
      "0           1  Hyundai Creta 1.6 CRDi SX Option        Pune  2015   \n",
      "1           2                      Honda Jazz V     Chennai  2011   \n",
      "2           3                 Maruti Ertiga VDI     Chennai  2012   \n",
      "3           4   Audi A4 New 2.0 TDI Multitronic  Coimbatore  2013   \n",
      "4           6            Nissan Micra Diesel XV      Jaipur  2013   \n",
      "\n",
      "   Kilometers_Driven  Fuel_Type_Diesel  Fuel_Type_Petrol  Fuel_Type_Electric  \\\n",
      "0              41000                 1                 0                   0   \n",
      "1              46000                 0                 1                   0   \n",
      "2              87000                 1                 0                   0   \n",
      "3              40670                 1                 0                   0   \n",
      "4              86999                 1                 0                   0   \n",
      "\n",
      "   Transmission_Manual  Transmission_Automatic Owner_Type  Mileage  Engine  \\\n",
      "0                    1                       0      First    19.67  1582.0   \n",
      "1                    1                       0      First    13.00  1199.0   \n",
      "2                    1                       0      First    20.77  1248.0   \n",
      "3                    0                       1     Second    15.20  1968.0   \n",
      "4                    1                       0      First    23.08  1461.0   \n",
      "\n",
      "    Power  Seats  New_Price  Price Current_Age Mileage_Category  \n",
      "0  126.20    5.0       4.78  12.50     9 years             High  \n",
      "1   88.70    5.0       8.61   4.50    13 years           Medium  \n",
      "2   88.76    7.0       4.78   6.00    12 years             High  \n",
      "3  140.80    5.0       4.78  17.74    11 years             High  \n",
      "4   63.10    5.0       4.78   3.50    11 years             High  \n"
     ]
    }
   ],
   "source": [
    "import pandas as pd\n",
    "import datetime\n",
    "\n",
    "\n",
    "raw_data = pd.read_csv(r\"C:\\Users\\MANOJ\\OneDrive\\Desktop\\pds_Assignment 2\\mutated.csv\")\n",
    "\n",
    "# Calculating the current age of the car\n",
    "present_year = datetime.datetime.now().year\n",
    "raw_data['Current_Age'] = (present_year - raw_data['Year']).astype(str) + \" years\"\n",
    "\n",
    "\n",
    "raw_data['Mileage_Category'] = pd.cut(raw_data['Mileage'], bins=[0, 10, 15, float('inf')], labels=['Low', 'Medium', 'High'], right=False)\n",
    "\n",
    "\n",
    "raw_data.to_csv(r\"C:\\Users\\MANOJ\\OneDrive\\Desktop\\pds_Assignment 2\\operations.csv\", index=False)\n",
    "raw_data = pd.read_csv(r\"C:\\Users\\MANOJ\\OneDrive\\Desktop\\pds_Assignment 2\\operations.csv\")\n",
    "print(raw_data.head())"
   ]
  },
  {
   "cell_type": "code",
   "execution_count": null,
   "id": "a421f41f",
   "metadata": {},
   "outputs": [],
   "source": []
  }
 ],
 "metadata": {
  "kernelspec": {
   "display_name": "Python 3 (ipykernel)",
   "language": "python",
   "name": "python3"
  },
  "language_info": {
   "codemirror_mode": {
    "name": "ipython",
    "version": 3
   },
   "file_extension": ".py",
   "mimetype": "text/x-python",
   "name": "python",
   "nbconvert_exporter": "python",
   "pygments_lexer": "ipython3",
   "version": "3.9.7"
  }
 },
 "nbformat": 4,
 "nbformat_minor": 5
}
